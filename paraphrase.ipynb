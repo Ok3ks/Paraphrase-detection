{
  "cells": [
    {
      "cell_type": "code",
      "execution_count": 31,
      "metadata": {
        "id": "NbcQrEBIcmri"
      },
      "outputs": [],
      "source": [
        "#Paraphrase detection with a classifier using BERT representation\n",
        "#THis notebook is based on the Microsoft Research paraphrase corpus where a classifier is trained to detect paraphrases"
      ]
    },
    {
      "cell_type": "code",
      "source": [
        "%pip install transformers"
      ],
      "metadata": {
        "id": "hW__H4EqezQp"
      },
      "execution_count": 32,
      "outputs": []
    },
    {
      "cell_type": "code",
      "execution_count": 33,
      "metadata": {
        "id": "k7cifKcKcmrj"
      },
      "outputs": [],
      "source": [
        "import os \n",
        "import pandas as pd\n",
        "import seaborn as sns\n",
        "import torch.multiprocessing as torch_mp\n",
        "import torch\n",
        "from transformers import RobertaTokenizerFast, RobertaModel\n",
        "from transformers import pipeline\n",
        "from sklearn.linear_model import LogisticRegression\n",
        "from sklearn.model_selection import KFold, GridSearchCV\n",
        "from sklearn.metrics import confusion_matrix, ConfusionMatrixDisplay, f1_score\n",
        "import numpy as np\n",
        "import matplotlib.pyplot as plt\n",
        "import operator\n",
        "#import optuna"
      ]
    },
    {
      "cell_type": "code",
      "execution_count": 34,
      "metadata": {
        "id": "S2h9p8Tjcmrk",
        "outputId": "8b1cad49-1791-4f85-9c00-8b20fb161222",
        "colab": {
          "base_uri": "https://localhost:8080/"
        }
      },
      "outputs": [
        {
          "output_type": "stream",
          "name": "stderr",
          "text": [
            "Some weights of the model checkpoint at roberta-base were not used when initializing RobertaModel: ['lm_head.decoder.weight', 'lm_head.layer_norm.bias', 'lm_head.dense.weight', 'lm_head.layer_norm.weight', 'lm_head.dense.bias', 'lm_head.bias']\n",
            "- This IS expected if you are initializing RobertaModel from the checkpoint of a model trained on another task or with another architecture (e.g. initializing a BertForSequenceClassification model from a BertForPreTraining model).\n",
            "- This IS NOT expected if you are initializing RobertaModel from the checkpoint of a model that you expect to be exactly identical (initializing a BertForSequenceClassification model from a BertForSequenceClassification model).\n"
          ]
        }
      ],
      "source": [
        "model = RobertaModel.from_pretrained(\"roberta-base\")\n",
        "tokenizer = RobertaTokenizerFast.from_pretrained(\"roberta-base\")"
      ]
    },
    {
      "cell_type": "code",
      "execution_count": 35,
      "metadata": {
        "id": "sfsksU4Dcmrk"
      },
      "outputs": [],
      "source": [
        "def make_segment_ids(list_of_tokens):\n",
        "    #this function assumes that up to and including the first '[SEP]' is the first segment, anything afterwards is the second segment\n",
        "    current_id=0\n",
        "    segment_ids=[]\n",
        "    for token in list_of_tokens:\n",
        "        segment_ids.append(current_id)\n",
        "        if token == '[SEP]':\n",
        "            current_id +=1\n",
        "    return segment_ids\n",
        "\n",
        "def tokenize(text):\n",
        "    text = 'CLS' + text + 'SEP'\n",
        "    tokens = tokenizer.tokenize(text)\n",
        "    ids = tokenizer.convert_tokens_to_ids(tokens)\n",
        "    seg = make_segment_ids(tokens)\n",
        "\n",
        "    return ids, seg\n",
        "\n",
        "def load_tsv(tsv_text):\n",
        "    content = dict()\n",
        "   \n",
        "    temp1 = []; temp2 = []; temp3 = []; temp4 = []; temp5 = []\n",
        "    with open(tsv_text, 'r') as tr:\n",
        "        for line in tr:\n",
        "            line = line.split('\\t')\n",
        "            temp1.append(line[0])\n",
        "            temp2.append(line[1])\n",
        "            temp3.append(line[2])\n",
        "            temp4.append(line[3])\n",
        "            temp5.append(line[4])\n",
        "\n",
        "    content[\"Quality\"] = temp1[1:]; content[\"#1 ID\"] = temp2[1:]; content[\"#2 ID\"] = temp3[1:]\n",
        "    content[\"#1 String\"] = temp4[1:]; content[\"#2 String\"] = temp5[1:]\n",
        "\n",
        "    return content\n",
        "\n",
        "def plot_confusion_matrix(y_preds, y_true, labels):\n",
        "    \"\"\"Plotting confusion matrix given predicted y(y_pred), true y(y_true) and labels\"\"\"\n",
        "    cm = confusion_matrix(y_true, y_preds, labels, normalize= True)\n",
        "    fig,ax = plt.subplots(len(labels), len(labels))\n",
        "    disp = ConfusionMatrixDisplay(confusion_matrix=cm, display_labels= labels)\n",
        "    disp.plot(cmap= \"Blues\", values_format =\".2f\", ax = ax, colorbar = False)\n",
        "    plt.title(\"Normalized confusion matrix\")\n",
        "    plt.show()"
      ]
    },
    {
      "cell_type": "code",
      "execution_count": 36,
      "metadata": {
        "id": "vosJ0XXicmrl"
      },
      "outputs": [],
      "source": [
        "\n",
        "#if torch.cuda.is_available() else \"cpu\")\n",
        "\n",
        "def out_hidden_states(text,model, flag = \"tensor\"):\n",
        "\n",
        "    \"\"\"Switches between Arrays and Tensors\"\"\"\n",
        "    device = torch.device(\"cuda\")\n",
        "    input = tokenizer(text, return_tensors =\"pt\",padding=True, truncation=True)\n",
        "    ins = {k:v.to(device) for k,v in input.items()}\n",
        "    model = model.to(device)\n",
        "\n",
        "    with torch.no_grad():\n",
        "        out = model(**ins)[-2]\n",
        "\n",
        "        if flag == \"array\":\n",
        "            out = out[:,0].cpu().numpy()[:,:]\n",
        "\n",
        "        elif flag == \"tensor\": \n",
        "            out = out[:, 0]\n",
        "\n",
        "        else :\n",
        "            print(\"select 'tensor' or 'array' \")\n",
        "\n",
        "    return out\n",
        "def accuracy(y_true, y_pred):\n",
        "    corr = 0\n",
        "    if len(y_true) == len(y_pred):\n",
        "        for a,b in zip(y_true, y_pred):\n",
        "            if a == b:\n",
        "                corr += 1\n",
        "            else:\n",
        "                pass\n",
        "        print(\"The Accuracy of this prediction is {}\".format(corr/len(y_true)))\n",
        "    else:\n",
        "        print(\"y_true is not the same as y_pred\")\n",
        "        pass\n",
        "    return corr/len(y_true)\n",
        "\n",
        "def accuracy_tensor(probs: torch.FloatTensor, targets: torch.LongTensor) -> float:\n",
        "    \"\"\"\n",
        "    Args:\n",
        "        probs: A float32 tensor of shape ``(batch_size, class_count)`` where each value \n",
        "            at index ``i`` in a row represents the score of class ``i``.\n",
        "        targets: A long tensor of shape ``(batch_size,)`` containing the batch examples'\n",
        "            labels.\n",
        "    \"\"\"\n",
        "    predicted = probs.argmax(dim=1)\n",
        "    corrects = (predicted == targets)\n",
        "    accuracy = corrects.sum().float() / float( targets.size(0) )\n",
        "    return accuracy\n"
      ]
    },
    {
      "cell_type": "code",
      "execution_count": 37,
      "metadata": {
        "id": "CBbBR5hxcmrl"
      },
      "outputs": [],
      "source": [
        "MRPC = \"Mrpc\"\n",
        "\n",
        "os.listdir(MRPC)\n",
        "\n",
        "train = MRPC + '/msr_paraphrase_train.txt'\n",
        "dev = MRPC + '/msr_paraphrase_dev.tsv'\n",
        "test = MRPC + '/msr_paraphrase_test.txt'\n",
        "label2id = {1: \"paraphrase\", 0: \"not paraphrase\"}"
      ]
    },
    {
      "cell_type": "code",
      "execution_count": 38,
      "metadata": {
        "id": "bqTFiNHQcmrm",
        "outputId": "853202ce-93f3-4ba4-a0b5-1b05972082af",
        "colab": {
          "base_uri": "https://localhost:8080/"
        }
      },
      "outputs": [
        {
          "output_type": "stream",
          "name": "stdout",
          "text": [
            "Index(['Quality', '#1 ID', '#2 ID', '#1 String', '#2 String'], dtype='object')\n"
          ]
        }
      ],
      "source": [
        "raw_train = pd.DataFrame(load_tsv(train))\n",
        "raw_dev = pd.DataFrame(load_tsv(dev))\n",
        "raw_test = pd.DataFrame(load_tsv(test))\n",
        "\n",
        "columns = raw_train.columns\n",
        "print(columns)"
      ]
    },
    {
      "cell_type": "code",
      "source": [
        "fig,ax = plt.subplots(3, figsize = (10,10))\n",
        "\n",
        "ax[0].hist(raw_train.Quality)\n",
        "ax[1].hist(raw_dev.Quality)\n",
        "ax[2].hist(raw_test.Quality)"
      ],
      "metadata": {
        "id": "JP0uI4qwg_OC",
        "outputId": "797fdbea-70a0-464a-d16b-a3d36d5b97f6",
        "colab": {
          "base_uri": "https://localhost:8080/",
          "height": 663
        }
      },
      "execution_count": 39,
      "outputs": [
        {
          "output_type": "execute_result",
          "data": {
            "text/plain": [
              "(array([1147.,    0.,    0.,    0.,    0.,    0.,    0.,    0.,    0.,\n",
              "         578.]),\n",
              " array([0. , 0.1, 0.2, 0.3, 0.4, 0.5, 0.6, 0.7, 0.8, 0.9, 1. ]),\n",
              " <a list of 10 Patch objects>)"
            ]
          },
          "metadata": {},
          "execution_count": 39
        },
        {
          "output_type": "display_data",
          "data": {
            "text/plain": [
              "<Figure size 720x720 with 3 Axes>"
            ],
            "image/png": "[encoded data removed]"
          },
          "metadata": {
            "needs_background": "light"
          }
        }
      ]
    },
    {
      "cell_type": "code",
      "source": [
        "raw_train_1 = out_hidden_states(list(raw_train['#1 String']), model)\n",
        "torch.save(raw_train_1, \"raw_ train_1_string.pt\")\n",
        "\n",
        "raw_train_2 = out_hidden_states(list(raw_train['#2 String']), model)\n",
        "torch.save(raw_train_2, \"raw_train_2_string.pt\")\n",
        "\n",
        "raw_dev_1 = out_hidden_states(list(raw_dev['#1 String']), model)\n",
        "torch.save(raw_dev_1, \"raw_dev_1_string.pt\")\n",
        "\n",
        "raw_dev_2 = out_hidden_states(list(raw_dev['#2 String']), model)\n",
        "torch.save(raw_dev_2, \"raw_dev_2_string.pt\")\n",
        "\n",
        "raw_test_1 = out_hidden_states(list(raw_test['#1 String']), model)\n",
        "torch.save(raw_test_1, \"raw_test_1_string.pt\")\n",
        "\n",
        "raw_test_2 = out_hidden_states(list(raw_test['#2 String']), model)\n",
        "torch.save(raw_test_2, \"raw_test_2_string.pt\")"
      ],
      "metadata": {
        "id": "K3nUn1MEiHff"
      },
      "execution_count": 41,
      "outputs": []
    },
    {
      "cell_type": "code",
      "source": [
        "raw_test_1.size(0)\n",
        "raw_test['sim'] = 0\n",
        "for i in range(raw_test_1.size(0)):\n",
        "  assert raw_test_1.size(0) == raw_test_2.size(0)\n",
        "  temp = torch.cosine_similarity(raw_test_1[i, :], raw_test_2[i, :])\n",
        "  raw_test.iloc([i,-1]) = temp"
      ],
      "metadata": {
        "id": "-tHWWCEG5hFm"
      },
      "execution_count": null,
      "outputs": []
    },
    {
      "cell_type": "code",
      "execution_count": null,
      "metadata": {
        "id": "Q7SHQh-xcmrm"
      },
      "outputs": [],
      "source": [
        "#Obtaining token ids using BERT Tokenizer for train,dev and test split\n",
        " \n",
        "train_1_id, train_1_seg_id = zip(*raw_train[\"#1 String\"].map(tokenize)) #unpacks \n",
        "train_2_id, train_2_seg_id= zip(*raw_train[\"#2 String\"].map(tokenize)) \n",
        "\n",
        "dev_1_id, dev_1_seg_id = zip(*raw_dev[\"#1 String\"].map(tokenize)) \n",
        "dev_2_id, dev_2_seg_id = zip(*raw_dev[\"#2 String\"].map(tokenize)) \n",
        "\n",
        "test_1_id, test_1_seg_id = zip(*raw_test[\"#1 String\"].map(tokenize))\n",
        "test_2_id, test_2_seg_id  = zip(*raw_test[\"#2 String\"].map(tokenize))\n",
        "\n",
        "#Obtaining labels to be used in classification head\n",
        "train_labels = raw_train[\"Quality\"]; dev_labels = raw_dev[\"Quality\"]; test_labels = raw_test[\"Quality\"]"
      ]
    },
    {
      "cell_type": "code",
      "execution_count": null,
      "metadata": {
        "id": "YIRpVKqacmrm",
        "outputId": "4d5409e6-16c5-432e-86b7-211923cbc874"
      },
      "outputs": [
        {
          "data": {
            "text/plain": [
              "tensor(3.8153)"
            ]
          },
          "execution_count": 122,
          "metadata": {},
          "output_type": "execute_result"
        }
      ],
      "source": [
        "#Checking function per input\n",
        "out_hidden_states(raw_train['#1 String'][0]).max()"
      ]
    },
    {
      "cell_type": "markdown",
      "metadata": {
        "id": "c4Tgx58hcmrm"
      },
      "source": [
        "USING NEURAL LAYER"
      ]
    },
    {
      "cell_type": "code",
      "execution_count": null,
      "metadata": {
        "id": "zmiCmls9cmrn"
      },
      "outputs": [],
      "source": [
        "train_string_1 = raw_train[\"#1 String\"]\n",
        "train_string_2 = raw_train['#2 String']\n",
        "\n",
        "dev_string_1 = raw_dev['#1 String']\n",
        "dev_string_2 = raw_dev['#2 String']\n",
        "\n",
        "test_string_1 = raw_test['#1 String']\n",
        "test_string_2 = raw_test['#2 String']\n",
        "\n",
        "train_string_1 = [out_hidden_states(text, flag = \"tensor\") for text in train_string_1]\n",
        "train_string_1 = torch.cat(train_string_1, dim = 0)\n",
        "\n",
        "train_string_2 = [out_hidden_states(text, flag = \"tensor\") for text in train_string_2]\n",
        "train_string_2 = torch.cat(train_string_2, dim = 0)\n",
        "\n",
        "dev_string_1 = [out_hidden_states(text, flag = \"tensor\") for text in dev_string_1]\n",
        "dev_string_1 = torch.cat(dev_string_1, dim = 0)\n",
        "\n",
        "dev_string_2 = [out_hidden_states(text, flag = \"tensor\") for text in dev_string_2]\n",
        "dev_string_2 = torch.cat(dev_string_2, dim = 0)\n",
        "\n",
        "test_string_1 = [out_hidden_states(text, flag = \"tensor\") for text in test_string_1]\n",
        "test_string_1 = torch.cat(test_string_1, dim = 0)\n",
        "\n",
        "test_string_2 = [out_hidden_states(text, flag = \"tensor\") for text in test_string_2]\n",
        "test_string_2 = torch.cat(test_string_2, dim = 0)"
      ]
    },
    {
      "cell_type": "code",
      "execution_count": null,
      "metadata": {
        "id": "Zzf2No5-cmrn"
      },
      "outputs": [],
      "source": [
        "train = torch.cat((train_string_1, train_string_2), dim = 1)\n",
        "dev = torch.cat((dev_string_1, dev_string_2), dim = 1)\n",
        "test  = torch.cat((test_string_1, test_string_2), dim = 1)"
      ]
    },
    {
      "cell_type": "code",
      "execution_count": null,
      "metadata": {
        "id": "7Pz2vgYacmro",
        "outputId": "b3e4abf9-8ee2-42fd-cd88-792f7c5dc979"
      },
      "outputs": [
        {
          "data": {
            "text/plain": [
              "torch.Size([4076, 1536])"
            ]
          },
          "execution_count": 125,
          "metadata": {},
          "output_type": "execute_result"
        }
      ],
      "source": [
        "train.shape"
      ]
    },
    {
      "cell_type": "markdown",
      "metadata": {
        "id": "qAWVAIy5cmro"
      },
      "source": [
        "TRAIN ON TRAIN_SET"
      ]
    },
    {
      "cell_type": "code",
      "execution_count": null,
      "metadata": {
        "id": "QbGtPMzCcmro",
        "outputId": "2d514326-d7d5-4737-ecfb-e630b48b9726"
      },
      "outputs": [
        {
          "data": {
            "text/plain": [
              "tensor([1., 0., 1.,  ..., 1., 1., 0.], dtype=torch.float64)"
            ]
          },
          "execution_count": 19,
          "metadata": {},
          "output_type": "execute_result"
        }
      ],
      "source": [
        "torch.tensor(train_labels)"
      ]
    },
    {
      "cell_type": "code",
      "execution_count": null,
      "metadata": {
        "id": "oyZpe7ckcmro"
      },
      "outputs": [],
      "source": [
        "import torch \n",
        "import torch.nn as nn\n",
        "\n",
        "class pp_model(nn.Module):\n",
        "    def __init__(self):\n",
        "        super().__init__()\n",
        "        self.l1 = nn.Linear(768*2,2)\n",
        "        self.dropout = nn.Dropout(p = 0.1, inplace= True)\n",
        "        \n",
        "    def forward(self, inputs:torch.tensor):\n",
        "        x = self.dropout(inputs)\n",
        "        x = self.l1(inputs)\n",
        "        return x\n"
      ]
    },
    {
      "cell_type": "code",
      "execution_count": null,
      "metadata": {
        "id": "RO-ItnBQcmro",
        "outputId": "a5278381-5c6e-487a-eaf4-0aa780d27888"
      },
      "outputs": [
        {
          "data": {
            "text/plain": [
              "<bound method Module.parameters of pp_model(\n",
              "  (l1): Linear(in_features=1536, out_features=2, bias=True)\n",
              "  (dropout): Dropout(p=0.5, inplace=False)\n",
              ")>"
            ]
          },
          "execution_count": 145,
          "metadata": {},
          "output_type": "execute_result"
        }
      ],
      "source": [
        "paraphrase_model = pp_model()\n",
        "paraphrase_model.parameters"
      ]
    },
    {
      "cell_type": "markdown",
      "metadata": {
        "id": "aSg8cullcmro"
      },
      "source": [
        "Learning Rate - 0.05"
      ]
    },
    {
      "cell_type": "code",
      "execution_count": null,
      "metadata": {
        "id": "24Smuktgcmro",
        "outputId": "f877e77a-710a-482b-fa0b-80a53186a32f"
      },
      "outputs": [
        {
          "name": "stderr",
          "output_type": "stream",
          "text": [
            "/var/folders/3v/kl4z85b17kd84k1hy0srlb3w0000gn/T/ipykernel_3307/2402385547.py:5: DeprecationWarning: an integer is required (got type float).  Implicit conversion to integers using __int__ is deprecated, and may be removed in a future version of Python.\n",
            "  train_labels = torch.tensor(raw_train['Quality'].map(float), dtype = torch.long)\n",
            "/var/folders/3v/kl4z85b17kd84k1hy0srlb3w0000gn/T/ipykernel_3307/2402385547.py:6: DeprecationWarning: an integer is required (got type float).  Implicit conversion to integers using __int__ is deprecated, and may be removed in a future version of Python.\n",
            "  valid_labels = torch.tensor(raw_dev['Quality'].map(float), dtype = torch.long)\n"
          ]
        },
        {
          "name": "stdout",
          "output_type": "stream",
          "text": [
            "epoch: 0 train accuracy: 79.88, loss: 0.46679\n",
            "epoch: 0 valid accuracy: 31.62, loss: 23.12375\n",
            "epoch: 1 train accuracy: 32.46, loss: 22.83001\n",
            "epoch: 1 valid accuracy: 32.84, loss: 4.72463\n",
            "epoch: 2 train accuracy: 34.05, loss: 4.71504\n",
            "epoch: 2 valid accuracy: 68.38, loss: 6.95443\n",
            "epoch: 3 train accuracy: 67.54, loss: 6.93530\n",
            "epoch: 3 valid accuracy: 68.38, loss: 12.37260\n",
            "epoch: 4 train accuracy: 67.54, loss: 12.50000\n",
            "epoch: 4 valid accuracy: 68.38, loss: 14.60933\n",
            "epoch: 5 train accuracy: 67.54, loss: 14.78597\n",
            "epoch: 5 valid accuracy: 68.38, loss: 14.53509\n",
            "epoch: 6 train accuracy: 67.54, loss: 14.69101\n",
            "epoch: 6 valid accuracy: 68.38, loss: 12.70249\n",
            "epoch: 7 train accuracy: 67.54, loss: 12.78492\n",
            "epoch: 7 valid accuracy: 68.38, loss: 9.48760\n",
            "epoch: 8 train accuracy: 67.54, loss: 9.45541\n",
            "epoch: 8 valid accuracy: 68.14, loss: 5.16421\n",
            "epoch: 9 train accuracy: 67.79, loss: 4.98828\n",
            "epoch: 9 valid accuracy: 70.34, loss: 1.60408\n",
            "epoch: 10 train accuracy: 72.50, loss: 1.55719\n",
            "epoch: 10 valid accuracy: 39.95, loss: 6.27955\n",
            "epoch: 11 train accuracy: 42.42, loss: 6.08001\n",
            "epoch: 11 valid accuracy: 35.29, loss: 9.08646\n",
            "epoch: 12 train accuracy: 36.68, loss: 8.81771\n",
            "epoch: 12 valid accuracy: 39.46, loss: 6.72684\n",
            "epoch: 13 train accuracy: 41.98, loss: 6.52295\n",
            "epoch: 13 valid accuracy: 62.75, loss: 2.48186\n",
            "epoch: 14 train accuracy: 64.33, loss: 2.47545\n",
            "epoch: 14 valid accuracy: 73.28, loss: 2.37695\n",
            "epoch: 15 train accuracy: 71.84, loss: 2.31949\n",
            "epoch: 15 valid accuracy: 71.32, loss: 4.23625\n",
            "epoch: 16 train accuracy: 70.26, loss: 4.10592\n",
            "epoch: 16 valid accuracy: 70.10, loss: 5.48131\n",
            "epoch: 17 train accuracy: 69.04, loss: 5.35156\n",
            "epoch: 17 valid accuracy: 69.12, loss: 5.66305\n",
            "epoch: 18 train accuracy: 68.74, loss: 5.54686\n",
            "epoch: 18 valid accuracy: 70.10, loss: 4.83729\n",
            "epoch: 19 train accuracy: 69.31, loss: 4.71249\n",
            "epoch: 19 valid accuracy: 72.30, loss: 3.26844\n",
            "epoch: 20 train accuracy: 70.98, loss: 3.15229\n",
            "epoch: 20 valid accuracy: 74.75, loss: 1.75790\n",
            "epoch: 21 train accuracy: 73.53, loss: 1.66854\n",
            "epoch: 21 valid accuracy: 64.22, loss: 2.08514\n",
            "epoch: 22 train accuracy: 64.92, loss: 2.12130\n",
            "epoch: 22 valid accuracy: 45.83, loss: 3.71089\n",
            "epoch: 23 train accuracy: 49.53, loss: 3.75928\n",
            "epoch: 23 valid accuracy: 48.77, loss: 3.23896\n",
            "epoch: 24 train accuracy: 51.79, loss: 3.29961\n",
            "epoch: 24 valid accuracy: 68.14, loss: 1.54189\n",
            "epoch: 25 train accuracy: 68.40, loss: 1.51172\n",
            "epoch: 25 valid accuracy: 75.98, loss: 1.55060\n",
            "epoch: 26 train accuracy: 74.71, loss: 1.38333\n",
            "epoch: 26 valid accuracy: 72.30, loss: 2.49749\n",
            "epoch: 27 train accuracy: 71.27, loss: 2.33961\n",
            "epoch: 27 valid accuracy: 70.59, loss: 2.85915\n",
            "epoch: 28 train accuracy: 70.07, loss: 2.72313\n",
            "epoch: 28 valid accuracy: 71.32, loss: 2.34322\n",
            "epoch: 29 train accuracy: 71.15, loss: 2.18523\n",
            "epoch: 29 valid accuracy: 75.00, loss: 1.30208\n",
            "epoch: 30 train accuracy: 75.74, loss: 1.11726\n",
            "epoch: 30 valid accuracy: 71.08, loss: 1.10401\n",
            "epoch: 31 train accuracy: 69.70, loss: 1.05516\n",
            "epoch: 31 valid accuracy: 52.70, loss: 2.04599\n",
            "epoch: 32 train accuracy: 53.63, loss: 2.06895\n",
            "epoch: 32 valid accuracy: 60.29, loss: 1.45038\n",
            "epoch: 33 train accuracy: 61.38, loss: 1.45783\n",
            "epoch: 33 valid accuracy: 75.74, loss: 0.86164\n",
            "epoch: 34 train accuracy: 77.04, loss: 0.72177\n",
            "epoch: 34 valid accuracy: 73.77, loss: 1.51142\n",
            "epoch: 35 train accuracy: 73.53, loss: 1.31429\n",
            "epoch: 35 valid accuracy: 72.30, loss: 1.80777\n",
            "epoch: 36 train accuracy: 71.91, loss: 1.60378\n",
            "epoch: 36 valid accuracy: 74.02, loss: 1.33859\n",
            "epoch: 37 train accuracy: 74.63, loss: 1.13849\n",
            "epoch: 37 valid accuracy: 74.26, loss: 0.80165\n",
            "epoch: 38 train accuracy: 76.64, loss: 0.67784\n",
            "epoch: 38 valid accuracy: 64.46, loss: 1.24243\n",
            "epoch: 39 train accuracy: 64.23, loss: 1.22138\n",
            "epoch: 39 valid accuracy: 64.22, loss: 1.19329\n",
            "epoch: 40 train accuracy: 65.14, loss: 1.16465\n",
            "epoch: 40 valid accuracy: 74.02, loss: 0.74544\n",
            "epoch: 41 train accuracy: 77.82, loss: 0.62314\n",
            "epoch: 41 valid accuracy: 74.51, loss: 1.12724\n",
            "epoch: 42 train accuracy: 75.27, loss: 0.92826\n",
            "epoch: 42 valid accuracy: 73.04, loss: 1.28466\n",
            "epoch: 43 train accuracy: 73.82, loss: 1.07509\n",
            "epoch: 43 valid accuracy: 75.25, loss: 0.87514\n",
            "epoch: 44 train accuracy: 77.13, loss: 0.70778\n",
            "epoch: 44 valid accuracy: 72.79, loss: 0.75512\n",
            "epoch: 45 train accuracy: 74.66, loss: 0.67223\n",
            "epoch: 45 valid accuracy: 64.46, loss: 1.01309\n",
            "epoch: 46 train accuracy: 67.57, loss: 0.96739\n",
            "epoch: 46 valid accuracy: 72.55, loss: 0.72450\n",
            "epoch: 47 train accuracy: 75.27, loss: 0.64169\n",
            "epoch: 47 valid accuracy: 76.47, loss: 0.79459\n",
            "epoch: 48 train accuracy: 77.65, loss: 0.65566\n",
            "epoch: 48 valid accuracy: 76.23, loss: 0.99006\n",
            "epoch: 49 train accuracy: 75.93, loss: 0.83541\n",
            "epoch: 49 valid accuracy: 76.72, loss: 0.77108\n"
          ]
        },
        {
          "data": {
            "image/png": "[encoded data removed]",
            "text/plain": [
              "<Figure size 1080x504 with 2 Axes>"
            ]
          },
          "metadata": {
            "needs_background": "light"
          },
          "output_type": "display_data"
        }
      ],
      "source": [
        "#Using Adam Optimizer\n",
        "\n",
        "from torch import optim\n",
        "\n",
        "train_labels = torch.tensor(raw_train['Quality'].map(float), dtype = torch.long)\n",
        "valid_labels = torch.tensor(raw_dev['Quality'].map(float), dtype = torch.long)\n",
        "\n",
        "optimizer = optim.AdamW(paraphrase_model.parameters(), lr=0.05)\n",
        "criterion = nn.CrossEntropyLoss()\n",
        "\n",
        "#For plot\n",
        "validation_loss = []\n",
        "epoch_range = range(50)\n",
        "\n",
        "fig,ax = plt.subplots(2,1, figsize = (15,7), sharey = 'row')\n",
        "\n",
        "for epoch in epoch_range:\n",
        "\n",
        "    paraphrase_model.train()\n",
        "    logits = paraphrase_model.forward(train)\n",
        "    train_loss = criterion(logits, train_labels)\n",
        "       \n",
        "    ax[0].scatter(epoch, train_loss.item())\n",
        "    ax[0].set_title(\"Plot of Training loss vs Epoch\")\n",
        "\n",
        "    print(\"epoch: {} train accuracy: {:2.2f}, loss: {:5.5f}\".format(epoch,accuracy_tensor(logits, train_labels) * 100,train_loss.item()))\n",
        "    train_loss.backward()\n",
        "    optimizer.step()\n",
        "    optimizer.zero_grad()\n",
        "\n",
        "    paraphrase_model.eval() \n",
        "\n",
        "    valid_logits = paraphrase_model(dev)\n",
        "    valid_loss = criterion(valid_logits, valid_labels)\n",
        "    print(\"epoch: {} valid accuracy: {:2.2f}, loss: {:5.5f}\".format(epoch,accuracy_tensor(valid_logits, valid_labels) * 100,valid_loss.item()))\n",
        "\n",
        "    ax[1].scatter(epoch, valid_loss.item())\n",
        "    ax[1].set_title(\"Plot of Validation loss vs Epoch\")"
      ]
    },
    {
      "cell_type": "code",
      "execution_count": null,
      "metadata": {
        "id": "_qQeXOAfcmrp",
        "outputId": "97cc7b03-4c4e-42f6-eecf-66b6c558afe8"
      },
      "outputs": [
        {
          "name": "stderr",
          "output_type": "stream",
          "text": [
            "/var/folders/3v/kl4z85b17kd84k1hy0srlb3w0000gn/T/ipykernel_3307/3731218117.py:5: DeprecationWarning: an integer is required (got type float).  Implicit conversion to integers using __int__ is deprecated, and may be removed in a future version of Python.\n",
            "  train_labels = torch.tensor(raw_train['Quality'].map(float), dtype = torch.long)\n",
            "/var/folders/3v/kl4z85b17kd84k1hy0srlb3w0000gn/T/ipykernel_3307/3731218117.py:6: DeprecationWarning: an integer is required (got type float).  Implicit conversion to integers using __int__ is deprecated, and may be removed in a future version of Python.\n",
            "  valid_labels = torch.tensor(raw_dev['Quality'].map(float), dtype = torch.long)\n"
          ]
        },
        {
          "name": "stdout",
          "output_type": "stream",
          "text": [
            "epoch: 0 train accuracy: 83.49, loss: 0.37999\n",
            "epoch: 0 valid accuracy: 81.13, loss: 0.43644\n",
            "epoch: 1 train accuracy: 82.73, loss: 0.38200\n",
            "epoch: 1 valid accuracy: 79.66, loss: 0.44208\n",
            "epoch: 2 train accuracy: 81.77, loss: 0.40655\n",
            "epoch: 2 valid accuracy: 78.19, loss: 0.45429\n",
            "epoch: 3 train accuracy: 71.34, loss: 0.67329\n",
            "epoch: 3 valid accuracy: 71.32, loss: 0.75416\n",
            "epoch: 4 train accuracy: 35.23, loss: 2.16862\n",
            "epoch: 4 valid accuracy: 34.31, loss: 2.22293\n",
            "epoch: 5 train accuracy: 67.54, loss: 4.41250\n",
            "epoch: 5 valid accuracy: 68.38, loss: 4.39819\n",
            "epoch: 6 train accuracy: 68.06, loss: 1.09559\n",
            "epoch: 6 valid accuracy: 69.12, loss: 1.17342\n",
            "epoch: 7 train accuracy: 34.54, loss: 2.39037\n",
            "epoch: 7 valid accuracy: 33.58, loss: 2.45010\n",
            "epoch: 8 train accuracy: 67.54, loss: 4.40929\n",
            "epoch: 8 valid accuracy: 68.38, loss: 4.39787\n",
            "epoch: 9 train accuracy: 68.25, loss: 1.09511\n",
            "epoch: 9 valid accuracy: 69.12, loss: 1.17476\n",
            "epoch: 10 train accuracy: 35.08, loss: 2.31799\n",
            "epoch: 10 valid accuracy: 33.58, loss: 2.37697\n",
            "epoch: 11 train accuracy: 67.54, loss: 4.35266\n",
            "epoch: 11 valid accuracy: 68.38, loss: 4.34539\n",
            "epoch: 12 train accuracy: 68.69, loss: 1.04819\n",
            "epoch: 12 valid accuracy: 69.36, loss: 1.13008\n",
            "epoch: 13 train accuracy: 35.45, loss: 2.25547\n",
            "epoch: 13 valid accuracy: 34.31, loss: 2.31375\n",
            "epoch: 14 train accuracy: 67.54, loss: 4.29268\n",
            "epoch: 14 valid accuracy: 68.38, loss: 4.28942\n",
            "epoch: 15 train accuracy: 69.33, loss: 1.00068\n",
            "epoch: 15 valid accuracy: 69.85, loss: 1.08409\n",
            "epoch: 16 train accuracy: 36.19, loss: 2.17804\n",
            "epoch: 16 valid accuracy: 34.80, loss: 2.23509\n",
            "epoch: 17 train accuracy: 67.54, loss: 4.22468\n",
            "epoch: 17 valid accuracy: 68.38, loss: 4.22537\n",
            "epoch: 18 train accuracy: 70.04, loss: 0.94897\n",
            "epoch: 18 valid accuracy: 70.59, loss: 1.03312\n",
            "epoch: 19 train accuracy: 37.07, loss: 2.08706\n",
            "epoch: 19 valid accuracy: 35.78, loss: 2.14234\n",
            "epoch: 20 train accuracy: 67.54, loss: 4.14714\n",
            "epoch: 20 valid accuracy: 68.38, loss: 4.15173\n",
            "epoch: 21 train accuracy: 70.95, loss: 0.89242\n",
            "epoch: 21 valid accuracy: 71.08, loss: 0.97645\n",
            "epoch: 22 train accuracy: 38.00, loss: 1.98206\n",
            "epoch: 22 valid accuracy: 36.03, loss: 2.03496\n",
            "epoch: 23 train accuracy: 67.54, loss: 4.05727\n",
            "epoch: 23 valid accuracy: 68.38, loss: 4.06576\n",
            "epoch: 24 train accuracy: 71.66, loss: 0.82974\n",
            "epoch: 24 valid accuracy: 71.57, loss: 0.91277\n",
            "epoch: 25 train accuracy: 39.45, loss: 1.85947\n",
            "epoch: 25 valid accuracy: 37.50, loss: 1.90928\n",
            "epoch: 26 train accuracy: 67.54, loss: 3.94909\n",
            "epoch: 26 valid accuracy: 68.38, loss: 3.96160\n",
            "epoch: 27 train accuracy: 72.62, loss: 0.75810\n",
            "epoch: 27 valid accuracy: 73.04, loss: 0.83914\n",
            "epoch: 28 train accuracy: 41.46, loss: 1.70731\n",
            "epoch: 28 valid accuracy: 39.22, loss: 1.75299\n",
            "epoch: 29 train accuracy: 67.54, loss: 3.80582\n",
            "epoch: 29 valid accuracy: 68.38, loss: 3.82291\n",
            "epoch: 30 train accuracy: 74.19, loss: 0.67022\n",
            "epoch: 30 valid accuracy: 75.49, loss: 0.74787\n",
            "epoch: 31 train accuracy: 44.90, loss: 1.48757\n",
            "epoch: 31 valid accuracy: 41.18, loss: 1.52735\n",
            "epoch: 32 train accuracy: 67.54, loss: 3.56673\n",
            "epoch: 32 valid accuracy: 68.38, loss: 3.59046\n",
            "epoch: 33 train accuracy: 76.45, loss: 0.54715\n",
            "epoch: 33 valid accuracy: 76.47, loss: 0.61777\n",
            "epoch: 34 train accuracy: 54.81, loss: 1.05566\n",
            "epoch: 34 valid accuracy: 51.96, loss: 1.08649\n",
            "epoch: 35 train accuracy: 67.54, loss: 2.87552\n",
            "epoch: 35 valid accuracy: 68.38, loss: 2.91729\n",
            "epoch: 36 train accuracy: 78.95, loss: 0.46376\n",
            "epoch: 36 valid accuracy: 77.45, loss: 0.50664\n",
            "epoch: 37 train accuracy: 74.51, loss: 0.63797\n",
            "epoch: 37 valid accuracy: 75.00, loss: 0.71532\n",
            "epoch: 38 train accuracy: 44.80, loss: 1.45573\n",
            "epoch: 38 valid accuracy: 40.93, loss: 1.49171\n",
            "epoch: 39 train accuracy: 67.54, loss: 3.56625\n",
            "epoch: 39 valid accuracy: 68.38, loss: 3.58827\n",
            "epoch: 40 train accuracy: 76.67, loss: 0.53885\n",
            "epoch: 40 valid accuracy: 76.72, loss: 0.61010\n",
            "epoch: 41 train accuracy: 53.78, loss: 1.07289\n",
            "epoch: 41 valid accuracy: 51.96, loss: 1.10110\n",
            "epoch: 42 train accuracy: 67.54, loss: 2.94918\n",
            "epoch: 42 valid accuracy: 68.38, loss: 2.98754\n",
            "epoch: 43 train accuracy: 79.86, loss: 0.44091\n",
            "epoch: 43 valid accuracy: 77.21, loss: 0.48619\n",
            "epoch: 44 train accuracy: 77.13, loss: 0.52176\n",
            "epoch: 44 valid accuracy: 76.96, loss: 0.59301\n",
            "epoch: 45 train accuracy: 53.97, loss: 1.04857\n",
            "epoch: 45 valid accuracy: 52.21, loss: 1.07504\n",
            "epoch: 46 train accuracy: 67.54, loss: 2.94044\n",
            "epoch: 46 valid accuracy: 68.38, loss: 2.97759\n",
            "epoch: 47 train accuracy: 80.18, loss: 0.43604\n",
            "epoch: 47 valid accuracy: 77.70, loss: 0.48069\n",
            "epoch: 48 train accuracy: 76.42, loss: 0.53642\n",
            "epoch: 48 valid accuracy: 75.98, loss: 0.60973\n",
            "epoch: 49 train accuracy: 50.47, loss: 1.16195\n",
            "epoch: 49 valid accuracy: 46.81, loss: 1.18881\n",
            "epoch: 50 train accuracy: 67.54, loss: 3.19027\n",
            "epoch: 50 valid accuracy: 68.38, loss: 3.21970\n",
            "epoch: 51 train accuracy: 80.86, loss: 0.42055\n",
            "epoch: 51 valid accuracy: 79.90, loss: 0.47710\n",
            "epoch: 52 train accuracy: 79.54, loss: 0.44501\n",
            "epoch: 52 valid accuracy: 76.72, loss: 0.48640\n",
            "epoch: 53 train accuracy: 73.50, loss: 0.67060\n",
            "epoch: 53 valid accuracy: 73.53, loss: 0.75127\n",
            "epoch: 54 train accuracy: 40.70, loss: 1.68038\n",
            "epoch: 54 valid accuracy: 38.73, loss: 1.71758\n",
            "epoch: 55 train accuracy: 67.54, loss: 3.87186\n",
            "epoch: 55 valid accuracy: 68.38, loss: 3.88218\n",
            "epoch: 56 train accuracy: 73.41, loss: 0.69397\n",
            "epoch: 56 valid accuracy: 74.02, loss: 0.77486\n",
            "epoch: 57 train accuracy: 40.97, loss: 1.68505\n",
            "epoch: 57 valid accuracy: 39.22, loss: 1.72205\n",
            "epoch: 58 train accuracy: 67.54, loss: 3.84343\n",
            "epoch: 58 valid accuracy: 68.38, loss: 3.85567\n",
            "epoch: 59 train accuracy: 73.70, loss: 0.68085\n",
            "epoch: 59 valid accuracy: 74.75, loss: 0.76087\n",
            "epoch: 60 train accuracy: 42.27, loss: 1.60811\n",
            "epoch: 60 valid accuracy: 39.46, loss: 1.64278\n",
            "epoch: 61 train accuracy: 67.54, loss: 3.74429\n",
            "epoch: 61 valid accuracy: 68.38, loss: 3.76016\n",
            "epoch: 62 train accuracy: 74.95, loss: 0.62567\n",
            "epoch: 62 valid accuracy: 75.49, loss: 0.70307\n",
            "epoch: 63 train accuracy: 45.58, loss: 1.42224\n",
            "epoch: 63 valid accuracy: 41.91, loss: 1.45199\n",
            "epoch: 64 train accuracy: 67.54, loss: 3.51581\n",
            "epoch: 64 valid accuracy: 68.38, loss: 3.53840\n",
            "epoch: 65 train accuracy: 77.36, loss: 0.51638\n",
            "epoch: 65 valid accuracy: 77.21, loss: 0.58642\n",
            "epoch: 66 train accuracy: 56.43, loss: 0.97535\n",
            "epoch: 66 valid accuracy: 53.68, loss: 0.99781\n",
            "epoch: 67 train accuracy: 67.54, loss: 2.72617\n",
            "epoch: 67 valid accuracy: 68.38, loss: 2.76985\n",
            "epoch: 68 train accuracy: 76.69, loss: 0.50353\n",
            "epoch: 68 valid accuracy: 74.51, loss: 0.53780\n",
            "epoch: 69 train accuracy: 70.71, loss: 0.95725\n",
            "epoch: 69 valid accuracy: 71.32, loss: 1.04082\n",
            "epoch: 70 train accuracy: 39.11, loss: 1.91902\n",
            "epoch: 70 valid accuracy: 37.01, loss: 1.96025\n",
            "epoch: 71 train accuracy: 67.54, loss: 3.95572\n",
            "epoch: 71 valid accuracy: 68.38, loss: 3.96667\n",
            "epoch: 72 train accuracy: 72.77, loss: 0.76546\n",
            "epoch: 72 valid accuracy: 73.28, loss: 0.84674\n",
            "epoch: 73 train accuracy: 41.90, loss: 1.68425\n",
            "epoch: 73 valid accuracy: 38.97, loss: 1.71875\n",
            "epoch: 74 train accuracy: 67.54, loss: 3.75116\n",
            "epoch: 74 valid accuracy: 68.38, loss: 3.76866\n",
            "epoch: 75 train accuracy: 74.90, loss: 0.64130\n",
            "epoch: 75 valid accuracy: 75.00, loss: 0.71797\n",
            "epoch: 76 train accuracy: 46.61, loss: 1.38329\n",
            "epoch: 76 valid accuracy: 43.14, loss: 1.40993\n",
            "epoch: 77 train accuracy: 67.54, loss: 3.39944\n",
            "epoch: 77 valid accuracy: 68.38, loss: 3.42681\n",
            "epoch: 78 train accuracy: 78.46, loss: 0.48611\n",
            "epoch: 78 valid accuracy: 78.43, loss: 0.55094\n",
            "epoch: 79 train accuracy: 65.14, loss: 0.74956\n",
            "epoch: 79 valid accuracy: 63.24, loss: 0.77150\n",
            "epoch: 80 train accuracy: 67.62, loss: 2.01904\n",
            "epoch: 80 valid accuracy: 68.38, loss: 2.08288\n",
            "epoch: 81 train accuracy: 54.54, loss: 1.06316\n",
            "epoch: 81 valid accuracy: 52.70, loss: 1.08346\n",
            "epoch: 82 train accuracy: 67.54, loss: 2.85407\n",
            "epoch: 82 valid accuracy: 68.38, loss: 2.89579\n",
            "epoch: 83 train accuracy: 78.95, loss: 0.46306\n",
            "epoch: 83 valid accuracy: 76.47, loss: 0.50198\n",
            "epoch: 84 train accuracy: 74.98, loss: 0.63193\n",
            "epoch: 84 valid accuracy: 74.75, loss: 0.70865\n",
            "epoch: 85 train accuracy: 46.15, loss: 1.38727\n",
            "epoch: 85 valid accuracy: 41.91, loss: 1.41201\n",
            "epoch: 86 train accuracy: 67.54, loss: 3.42746\n",
            "epoch: 86 valid accuracy: 68.38, loss: 3.45304\n",
            "epoch: 87 train accuracy: 78.34, loss: 0.49080\n",
            "epoch: 87 valid accuracy: 78.19, loss: 0.55692\n",
            "epoch: 88 train accuracy: 62.73, loss: 0.80444\n",
            "epoch: 88 valid accuracy: 61.27, loss: 0.82388\n",
            "epoch: 89 train accuracy: 67.57, loss: 2.22040\n",
            "epoch: 89 valid accuracy: 68.38, loss: 2.27814\n",
            "epoch: 90 train accuracy: 60.82, loss: 0.85546\n",
            "epoch: 90 valid accuracy: 58.82, loss: 0.87385\n",
            "epoch: 91 train accuracy: 67.54, loss: 2.36093\n",
            "epoch: 91 valid accuracy: 68.38, loss: 2.41513\n",
            "epoch: 92 train accuracy: 66.19, loss: 0.72816\n",
            "epoch: 92 valid accuracy: 65.20, loss: 0.74808\n",
            "epoch: 93 train accuracy: 67.64, loss: 1.94076\n",
            "epoch: 93 valid accuracy: 68.14, loss: 2.00632\n",
            "epoch: 94 train accuracy: 52.55, loss: 1.13697\n",
            "epoch: 94 valid accuracy: 51.23, loss: 1.15538\n",
            "epoch: 95 train accuracy: 67.54, loss: 2.99818\n",
            "epoch: 95 valid accuracy: 68.38, loss: 3.03579\n",
            "epoch: 96 train accuracy: 80.25, loss: 0.43767\n",
            "epoch: 96 valid accuracy: 78.68, loss: 0.48269\n",
            "epoch: 97 train accuracy: 79.32, loss: 0.45228\n",
            "epoch: 97 valid accuracy: 78.19, loss: 0.51222\n",
            "epoch: 98 train accuracy: 72.42, loss: 0.58860\n",
            "epoch: 98 valid accuracy: 70.83, loss: 0.61324\n",
            "epoch: 99 train accuracy: 68.33, loss: 1.40732\n",
            "epoch: 99 valid accuracy: 68.87, loss: 1.48493\n"
          ]
        },
        {
          "data": {
            "image/png": "[encoded data removed]",
            "text/plain": [
              "<Figure size 1080x504 with 2 Axes>"
            ]
          },
          "metadata": {
            "needs_background": "light"
          },
          "output_type": "display_data"
        }
      ],
      "source": [
        "#Using Adam Optimizer\n",
        "\n",
        "from torch import optim\n",
        "\n",
        "train_labels = torch.tensor(raw_train['Quality'].map(float), dtype = torch.long)\n",
        "valid_labels = torch.tensor(raw_dev['Quality'].map(float), dtype = torch.long)\n",
        "\n",
        "optimizer = optim.SGD(paraphrase_model.parameters(), lr=0.05)\n",
        "\n",
        "criterion = nn.CrossEntropyLoss()\n",
        "paraphrase_model.train()\n",
        "\n",
        "#For plot\n",
        "validation_loss = []\n",
        "epoch_range = range(100)\n",
        "\n",
        "fig,ax = plt.subplots(2,1, figsize = (15,7), sharey = 'row')\n",
        "\n",
        "for epoch in epoch_range:   \n",
        "\n",
        "    logits = paraphrase_model.forward(train)\n",
        "    train_loss = criterion(logits, train_labels)\n",
        "\n",
        "    valid_logits = paraphrase_model.forward(dev)\n",
        "    valid_loss = criterion(valid_logits, valid_labels)\n",
        "       \n",
        "    ax[1].scatter(epoch, train_loss.item())\n",
        "    ax[0].scatter(epoch, valid_loss.item())\n",
        "\n",
        "    plt.title(\"Plot of Training loss vs Epoch\")\n",
        "    plt.title(\"Plot of Validation loss vs Epoch\")\n",
        "\n",
        "    print(\"epoch: {} train accuracy: {:2.2f}, loss: {:5.5f}\".format(epoch,accuracy_tensor(logits, train_labels) * 100,train_loss.item()))\n",
        "    print(\"epoch: {} valid accuracy: {:2.2f}, loss: {:5.5f}\".format(epoch,accuracy_tensor(valid_logits, valid_labels) * 100,valid_loss.item()))\n",
        "    train_loss.backward()\n",
        "    optimizer.step()\n",
        "    optimizer.zero_grad()\n"
      ]
    }
  ],
  "metadata": {
    "kernelspec": {
      "display_name": "Python 3.8.10 ('nlp_venv': venv)",
      "language": "python",
      "name": "python3"
    },
    "language_info": {
      "codemirror_mode": {
        "name": "ipython",
        "version": 3
      },
      "file_extension": ".py",
      "mimetype": "text/x-python",
      "name": "python",
      "nbconvert_exporter": "python",
      "pygments_lexer": "ipython3",
      "version": "3.8.10"
    },
    "orig_nbformat": 4,
    "vscode": {
      "interpreter": {
        "hash": "79988c4517afee57aaca61710796edfc2f44e65e763dd9b1bbd0d2f44c7b4eaa"
      }
    },
    "colab": {
      "provenance": []
    },
    "accelerator": "GPU",
    "gpuClass": "standard"
  },
  "nbformat": 4,
  "nbformat_minor": 0
}